{
 "cells": [
  {
   "cell_type": "markdown",
   "metadata": {},
   "source": [
    "# Questions asked : \n",
    "## Does receiving SMS w.r.t age categories affect showing up to appointment?\n",
    "## How does day difference affect showing up to appointments?\n",
    "## What is the preferred time for men and women to show up for the appointment?\n",
    "## is showing up for appointment correspond with specific week day?\n"
   ]
  },
  {
   "cell_type": "code",
   "execution_count": 1,
   "metadata": {},
   "outputs": [],
   "source": [
    "## importing libraries\n",
    "import pandas as pd\n",
    "import numpy as np\n",
    "import matplotlib.pyplot as plt\n",
    "import seaborn as sns\n",
    "%matplotlib inline"
   ]
  },
  {
   "cell_type": "code",
   "execution_count": 2,
   "metadata": {},
   "outputs": [],
   "source": [
    "## reading the csv file\n",
    "df = pd. read_csv(r'D:\\Data Analysis\\Tasks\\Professional Track\\2nd_project\\Data\\noshowappointments-kagglev2-may-2016.csv')"
   ]
  },
  {
   "cell_type": "markdown",
   "metadata": {},
   "source": [
    "## Renaming columns"
   ]
  },
  {
   "cell_type": "code",
   "execution_count": 3,
   "metadata": {},
   "outputs": [],
   "source": [
    "## Renaming columns\n",
    "df.rename(columns={'PatientId':'patient_id', 'AppointmentID':'appointment_id', 'Gender':'gender', \n",
    "                   'ScheduledDay':'scheduled_day','AppointmentDay':'appointment_day',\n",
    "                   'Age':'age', 'Neighbourhood':'neighbourhood', 'Scholarship':'scholarship',\n",
    "                   'Hipertension':'hipertension','Diabetes':'diabetes','Alcoholism':'alcoholism',\n",
    "                   'Handcap':'handcap', 'SMS_received':'sms_received', 'No-show':'no_show'}, inplace =True)"
   ]
  },
  {
   "cell_type": "code",
   "execution_count": 4,
   "metadata": {},
   "outputs": [],
   "source": [
    "### Cleaning data and removing outliers\n",
    "a = [-1,115]\n",
    "df_2 = df[df.age.isin(a)]\n",
    "df.drop(index=[63915,68127,76284,97666,99832,63912],inplace = True)\n"
   ]
  },
  {
   "cell_type": "markdown",
   "metadata": {},
   "source": [
    "## Extracting date and time data"
   ]
  },
  {
   "cell_type": "code",
   "execution_count": 5,
   "metadata": {},
   "outputs": [],
   "source": [
    "### Extracting time and date\n",
    "import datetime\n",
    "\n",
    "df['scheduled_day']  = pd.to_datetime(df['scheduled_day'], \n",
    "                                       format='%Y-%m-%d %H:%M')\n",
    "df['appointment_day']  = pd.to_datetime(df['appointment_day'], \n",
    "                                       format='%Y-%m-%d %H:%M')\n",
    "### Scheduling data\n",
    "df['scheduled_year']= df['scheduled_day'].dt.year\n",
    "df['scheduled_month']= df['scheduled_day'].dt.month\n",
    "df['scheduled_d']= df['scheduled_day'].dt.day\n",
    "df['scheduled_hour']= df['scheduled_day'].dt.hour\n",
    "### Appoitment\n",
    "df['appointment_year']= df['appointment_day'].dt.year\n",
    "df['appointment_month']= df['appointment_day'].dt.month\n",
    "df['appointment_d']= df['appointment_day'].dt.day\n",
    "### Creating week day column\n",
    "df['day_of_week_a'] = df['appointment_day'].dt.day_name()\n",
    "df['day_of_week_s'] = df['scheduled_day'].dt.day_name()"
   ]
  },
  {
   "cell_type": "markdown",
   "metadata": {},
   "source": [
    "## Categorize Age into child(0,14) ,youth(15,24) ,adult(25,64) and senior(64 and over)"
   ]
  },
  {
   "cell_type": "code",
   "execution_count": 6,
   "metadata": {},
   "outputs": [],
   "source": [
    "### categorizing age\n",
    "cut_bins = [0,14,24,64,102]\n",
    "\n",
    "df['age_cat'] = pd.cut(df['age'],bins = cut_bins , labels = ['child','youth','adult','senior'])"
   ]
  },
  {
   "cell_type": "code",
   "execution_count": 7,
   "metadata": {},
   "outputs": [
    {
     "data": {
      "text/html": [
       "<div>\n",
       "<style scoped>\n",
       "    .dataframe tbody tr th:only-of-type {\n",
       "        vertical-align: middle;\n",
       "    }\n",
       "\n",
       "    .dataframe tbody tr th {\n",
       "        vertical-align: top;\n",
       "    }\n",
       "\n",
       "    .dataframe thead th {\n",
       "        text-align: right;\n",
       "    }\n",
       "</style>\n",
       "<table border=\"1\" class=\"dataframe\">\n",
       "  <thead>\n",
       "    <tr style=\"text-align: right;\">\n",
       "      <th></th>\n",
       "      <th>patient_id</th>\n",
       "      <th>appointment_id</th>\n",
       "      <th>gender</th>\n",
       "      <th>scheduled_day</th>\n",
       "      <th>appointment_day</th>\n",
       "      <th>age</th>\n",
       "      <th>neighbourhood</th>\n",
       "      <th>scholarship</th>\n",
       "      <th>hipertension</th>\n",
       "      <th>diabetes</th>\n",
       "      <th>...</th>\n",
       "      <th>scheduled_year</th>\n",
       "      <th>scheduled_month</th>\n",
       "      <th>scheduled_d</th>\n",
       "      <th>scheduled_hour</th>\n",
       "      <th>appointment_year</th>\n",
       "      <th>appointment_month</th>\n",
       "      <th>appointment_d</th>\n",
       "      <th>day_of_week_a</th>\n",
       "      <th>day_of_week_s</th>\n",
       "      <th>age_cat</th>\n",
       "    </tr>\n",
       "  </thead>\n",
       "  <tbody>\n",
       "    <tr>\n",
       "      <th>0</th>\n",
       "      <td>29872499824296</td>\n",
       "      <td>5642903</td>\n",
       "      <td>F</td>\n",
       "      <td>2016-04-29 18:38:08+00:00</td>\n",
       "      <td>2016-04-29 00:00:00+00:00</td>\n",
       "      <td>62</td>\n",
       "      <td>JARDIM DA PENHA</td>\n",
       "      <td>0</td>\n",
       "      <td>1</td>\n",
       "      <td>0</td>\n",
       "      <td>...</td>\n",
       "      <td>2016</td>\n",
       "      <td>4</td>\n",
       "      <td>29</td>\n",
       "      <td>18</td>\n",
       "      <td>2016</td>\n",
       "      <td>4</td>\n",
       "      <td>29</td>\n",
       "      <td>Friday</td>\n",
       "      <td>Friday</td>\n",
       "      <td>adult</td>\n",
       "    </tr>\n",
       "    <tr>\n",
       "      <th>1</th>\n",
       "      <td>558997776694438</td>\n",
       "      <td>5642503</td>\n",
       "      <td>M</td>\n",
       "      <td>2016-04-29 16:08:27+00:00</td>\n",
       "      <td>2016-04-29 00:00:00+00:00</td>\n",
       "      <td>56</td>\n",
       "      <td>JARDIM DA PENHA</td>\n",
       "      <td>0</td>\n",
       "      <td>0</td>\n",
       "      <td>0</td>\n",
       "      <td>...</td>\n",
       "      <td>2016</td>\n",
       "      <td>4</td>\n",
       "      <td>29</td>\n",
       "      <td>16</td>\n",
       "      <td>2016</td>\n",
       "      <td>4</td>\n",
       "      <td>29</td>\n",
       "      <td>Friday</td>\n",
       "      <td>Friday</td>\n",
       "      <td>adult</td>\n",
       "    </tr>\n",
       "    <tr>\n",
       "      <th>2</th>\n",
       "      <td>4262962299951</td>\n",
       "      <td>5642549</td>\n",
       "      <td>F</td>\n",
       "      <td>2016-04-29 16:19:04+00:00</td>\n",
       "      <td>2016-04-29 00:00:00+00:00</td>\n",
       "      <td>62</td>\n",
       "      <td>MATA DA PRAIA</td>\n",
       "      <td>0</td>\n",
       "      <td>0</td>\n",
       "      <td>0</td>\n",
       "      <td>...</td>\n",
       "      <td>2016</td>\n",
       "      <td>4</td>\n",
       "      <td>29</td>\n",
       "      <td>16</td>\n",
       "      <td>2016</td>\n",
       "      <td>4</td>\n",
       "      <td>29</td>\n",
       "      <td>Friday</td>\n",
       "      <td>Friday</td>\n",
       "      <td>adult</td>\n",
       "    </tr>\n",
       "    <tr>\n",
       "      <th>3</th>\n",
       "      <td>867951213174</td>\n",
       "      <td>5642828</td>\n",
       "      <td>F</td>\n",
       "      <td>2016-04-29 17:29:31+00:00</td>\n",
       "      <td>2016-04-29 00:00:00+00:00</td>\n",
       "      <td>8</td>\n",
       "      <td>PONTAL DE CAMBURI</td>\n",
       "      <td>0</td>\n",
       "      <td>0</td>\n",
       "      <td>0</td>\n",
       "      <td>...</td>\n",
       "      <td>2016</td>\n",
       "      <td>4</td>\n",
       "      <td>29</td>\n",
       "      <td>17</td>\n",
       "      <td>2016</td>\n",
       "      <td>4</td>\n",
       "      <td>29</td>\n",
       "      <td>Friday</td>\n",
       "      <td>Friday</td>\n",
       "      <td>child</td>\n",
       "    </tr>\n",
       "    <tr>\n",
       "      <th>4</th>\n",
       "      <td>8841186448183</td>\n",
       "      <td>5642494</td>\n",
       "      <td>F</td>\n",
       "      <td>2016-04-29 16:07:23+00:00</td>\n",
       "      <td>2016-04-29 00:00:00+00:00</td>\n",
       "      <td>56</td>\n",
       "      <td>JARDIM DA PENHA</td>\n",
       "      <td>0</td>\n",
       "      <td>1</td>\n",
       "      <td>1</td>\n",
       "      <td>...</td>\n",
       "      <td>2016</td>\n",
       "      <td>4</td>\n",
       "      <td>29</td>\n",
       "      <td>16</td>\n",
       "      <td>2016</td>\n",
       "      <td>4</td>\n",
       "      <td>29</td>\n",
       "      <td>Friday</td>\n",
       "      <td>Friday</td>\n",
       "      <td>adult</td>\n",
       "    </tr>\n",
       "  </tbody>\n",
       "</table>\n",
       "<p>5 rows × 24 columns</p>\n",
       "</div>"
      ],
      "text/plain": [
       "        patient_id  appointment_id gender             scheduled_day  \\\n",
       "0   29872499824296         5642903      F 2016-04-29 18:38:08+00:00   \n",
       "1  558997776694438         5642503      M 2016-04-29 16:08:27+00:00   \n",
       "2    4262962299951         5642549      F 2016-04-29 16:19:04+00:00   \n",
       "3     867951213174         5642828      F 2016-04-29 17:29:31+00:00   \n",
       "4    8841186448183         5642494      F 2016-04-29 16:07:23+00:00   \n",
       "\n",
       "            appointment_day  age      neighbourhood  scholarship  \\\n",
       "0 2016-04-29 00:00:00+00:00   62    JARDIM DA PENHA            0   \n",
       "1 2016-04-29 00:00:00+00:00   56    JARDIM DA PENHA            0   \n",
       "2 2016-04-29 00:00:00+00:00   62      MATA DA PRAIA            0   \n",
       "3 2016-04-29 00:00:00+00:00    8  PONTAL DE CAMBURI            0   \n",
       "4 2016-04-29 00:00:00+00:00   56    JARDIM DA PENHA            0   \n",
       "\n",
       "   hipertension  diabetes  ...  scheduled_year  scheduled_month  scheduled_d  \\\n",
       "0             1         0  ...            2016                4           29   \n",
       "1             0         0  ...            2016                4           29   \n",
       "2             0         0  ...            2016                4           29   \n",
       "3             0         0  ...            2016                4           29   \n",
       "4             1         1  ...            2016                4           29   \n",
       "\n",
       "  scheduled_hour  appointment_year  appointment_month  appointment_d  \\\n",
       "0             18              2016                  4             29   \n",
       "1             16              2016                  4             29   \n",
       "2             16              2016                  4             29   \n",
       "3             17              2016                  4             29   \n",
       "4             16              2016                  4             29   \n",
       "\n",
       "   day_of_week_a  day_of_week_s  age_cat  \n",
       "0         Friday         Friday    adult  \n",
       "1         Friday         Friday    adult  \n",
       "2         Friday         Friday    adult  \n",
       "3         Friday         Friday    child  \n",
       "4         Friday         Friday    adult  \n",
       "\n",
       "[5 rows x 24 columns]"
      ]
     },
     "execution_count": 7,
     "metadata": {},
     "output_type": "execute_result"
    }
   ],
   "source": [
    "df.head(5)"
   ]
  },
  {
   "cell_type": "code",
   "execution_count": 18,
   "metadata": {},
   "outputs": [
    {
     "data": {
      "text/plain": [
       "(110521, 24)"
      ]
     },
     "execution_count": 18,
     "metadata": {},
     "output_type": "execute_result"
    }
   ],
   "source": [
    "df.shape\n",
    "38687/110521"
   ]
  },
  {
   "cell_type": "markdown",
   "metadata": {},
   "source": [
    "## Split the data to Females and Males"
   ]
  },
  {
   "cell_type": "code",
   "execution_count": 8,
   "metadata": {},
   "outputs": [],
   "source": [
    "### splitting data to males and females\n",
    "df_m = df.query('gender == \"M\"')\n",
    "df_f = df.query('gender == \"F\"')"
   ]
  },
  {
   "cell_type": "code",
   "execution_count": 9,
   "metadata": {},
   "outputs": [
    {
     "data": {
      "text/plain": [
       "5    80837\n",
       "6    26449\n",
       "4     3235\n",
       "Name: appointment_month, dtype: int64"
      ]
     },
     "execution_count": 9,
     "metadata": {},
     "output_type": "execute_result"
    }
   ],
   "source": [
    "df['appointment_month'].value_counts()"
   ]
  },
  {
   "cell_type": "code",
   "execution_count": 10,
   "metadata": {},
   "outputs": [
    {
     "data": {
      "text/plain": [
       "Index(['patient_id', 'appointment_id', 'gender', 'scheduled_day',\n",
       "       'appointment_day', 'age', 'neighbourhood', 'scholarship',\n",
       "       'hipertension', 'diabetes', 'alcoholism', 'handcap', 'sms_received',\n",
       "       'no_show', 'scheduled_year', 'scheduled_month', 'scheduled_d',\n",
       "       'scheduled_hour', 'appointment_year', 'appointment_month',\n",
       "       'appointment_d', 'day_of_week_a', 'day_of_week_s', 'age_cat'],\n",
       "      dtype='object')"
      ]
     },
     "execution_count": 10,
     "metadata": {},
     "output_type": "execute_result"
    }
   ],
   "source": [
    "df.columns"
   ]
  },
  {
   "cell_type": "markdown",
   "metadata": {},
   "source": [
    "## Data Info"
   ]
  },
  {
   "cell_type": "code",
   "execution_count": 11,
   "metadata": {},
   "outputs": [
    {
     "data": {
      "text/plain": [
       "''"
      ]
     },
     "execution_count": 11,
     "metadata": {},
     "output_type": "execute_result"
    },
    {
     "data": {
      "image/png": "[encoded data removed]",
      "text/plain": [
       "<Figure size 432x288 with 4 Axes>"
      ]
     },
     "metadata": {
      "needs_background": "light"
     },
     "output_type": "display_data"
    }
   ],
   "source": [
    "df_2 = df.loc[:,['diabetes','hipertension','scholarship','alcoholism']]\n",
    "df_2.plot.hist(subplots=True,layout =(1,4),sharex =True,sharey=True)\n",
    "plt.subplots_adjust(right = 3 ,wspace = 0.5)\n",
    "plt.xticks([0,1])\n",
    ";"
   ]
  },
  {
   "cell_type": "markdown",
   "metadata": {},
   "source": [
    "### Bar plot function"
   ]
  },
  {
   "cell_type": "code",
   "execution_count": 12,
   "metadata": {},
   "outputs": [],
   "source": [
    "### Bar plotting function \n",
    "def plot_func(y,color,ylab,title):\n",
    "    plt.bar(y.index,y.values, color ='{}'.format(color))\n",
    "    plt.ylabel('{}'.format(ylab))\n",
    "    plt.title('{}'.format(title))"
   ]
  },
  {
   "cell_type": "markdown",
   "metadata": {},
   "source": [
    "## Bar sup plotting function"
   ]
  },
  {
   "cell_type": "code",
   "execution_count": 13,
   "metadata": {},
   "outputs": [],
   "source": [
    "### function for subplotting\n",
    "\n",
    "def bar_plot(row,col,to_plot,colors,titles,ytitles):\n",
    "    \n",
    "    fig, axes = plt.subplots(nrows= row, ncols= col, sharex =True , sharey=True )\n",
    "\n",
    "    axes =axes.flatten()\n",
    "\n",
    "    for i,ax in enumerate(axes):\n",
    "\n",
    "        ax.bar(to_plot[i].index,height = to_plot[i].values ,color = colors[i]) ### Plotting\n",
    "        ax.set_title(titles[i])        ### set title\n",
    "        ax.set_ylabel(ytitles[i])      ##set y lable\n",
    "        fig.tight_layout();"
   ]
  },
  {
   "cell_type": "markdown",
   "metadata": {},
   "source": [
    "# Question 1\n",
    "## What is the relation between SMS , Age categoreies and showing to appoitment?"
   ]
  },
  {
   "cell_type": "code",
   "execution_count": 14,
   "metadata": {
    "scrolled": true
   },
   "outputs": [
    {
     "data": {
      "image/png": "[encoded data removed]",
      "text/plain": [
       "<Figure size 432x288 with 1 Axes>"
      ]
     },
     "metadata": {
      "needs_background": "light"
     },
     "output_type": "display_data"
    }
   ],
   "source": [
    "### showing how many received the SMS and showed up to appoitment\n",
    "color = 'grey'\n",
    "ylab = 'Numbers'\n",
    "title = 'Total number that received SMS and showed up to appoitment'\n",
    "y_2 = df.query('no_show == \"Yes\" & sms_received >=1 ')['age_cat'].value_counts()\n",
    "plot_func(y_2,color,ylab,title);\n"
   ]
  },
  {
   "cell_type": "code",
   "execution_count": 15,
   "metadata": {
    "scrolled": true
   },
   "outputs": [
    {
     "ename": "NameError",
     "evalue": "name 'y_1' is not defined",
     "output_type": "error",
     "traceback": [
      "\u001b[1;31m---------------------------------------------------------------------------\u001b[0m",
      "\u001b[1;31mNameError\u001b[0m                                 Traceback (most recent call last)",
      "\u001b[1;32m<ipython-input-15-3020a81947ab>\u001b[0m in \u001b[0;36m<module>\u001b[1;34m\u001b[0m\n\u001b[0;32m      2\u001b[0m \u001b[0mylab\u001b[0m \u001b[1;33m=\u001b[0m \u001b[1;34m'Percentage'\u001b[0m\u001b[1;33m\u001b[0m\u001b[1;33m\u001b[0m\u001b[0m\n\u001b[0;32m      3\u001b[0m \u001b[0mtitle\u001b[0m \u001b[1;33m=\u001b[0m \u001b[1;34m'Percentage of total number that received SMS and the ones that showed up to appoitment'\u001b[0m\u001b[1;33m\u001b[0m\u001b[1;33m\u001b[0m\u001b[0m\n\u001b[1;32m----> 4\u001b[1;33m \u001b[0my_3\u001b[0m \u001b[1;33m=\u001b[0m \u001b[0my_2\u001b[0m\u001b[1;33m/\u001b[0m\u001b[0my_1\u001b[0m\u001b[1;33m\u001b[0m\u001b[1;33m\u001b[0m\u001b[0m\n\u001b[0m\u001b[0;32m      5\u001b[0m \u001b[0mplot_func\u001b[0m\u001b[1;33m(\u001b[0m\u001b[0my_3\u001b[0m\u001b[1;33m,\u001b[0m\u001b[1;34m'green'\u001b[0m\u001b[1;33m,\u001b[0m\u001b[0mylab\u001b[0m\u001b[1;33m,\u001b[0m\u001b[0mtitle\u001b[0m\u001b[1;33m)\u001b[0m\u001b[1;33m;\u001b[0m\u001b[1;33m\u001b[0m\u001b[1;33m\u001b[0m\u001b[0m\n\u001b[0;32m      6\u001b[0m \u001b[1;33m\u001b[0m\u001b[0m\n",
      "\u001b[1;31mNameError\u001b[0m: name 'y_1' is not defined"
     ]
    }
   ],
   "source": [
    "### Sending SMS to youth(15,24) makes him more likely to attend than an adult\n",
    "ylab = 'Percentage'\n",
    "title = 'Percentage of total number that received SMS and the ones that showed up to appoitment'\n",
    "y_3 = y_2/y_1\n",
    "plot_func(y_3,'green',ylab,title);\n",
    "\n"
   ]
  },
  {
   "cell_type": "code",
   "execution_count": null,
   "metadata": {},
   "outputs": [],
   "source": [
    "### Males who received SMS and showed at the appoitment\n",
    "x_m_r = df_m.query('no_show == \"Yes\" & sms_received >=1 ')['age_cat'].value_counts()\n",
    "### Females who received SMS and showed at the appoitment\n",
    "x_f_r = df_f.query('no_show == \"Yes\" & sms_received >=1 ')['age_cat'].value_counts()\n",
    "### number of males and females who recived SMSs\n",
    "x_m = df_m.query(' sms_received >=1 ')['age_cat'].value_counts()\n",
    "x_f = df_f.query(' sms_received >=1 ')['age_cat'].value_counts()\n",
    "### Percentage of F and M\n",
    "ff = x_f_r/x_f\n",
    "mm = x_m_r/x_m\n",
    "####\n",
    "\n",
    "l1 = [ mm ,ff]\n",
    "colors = ['darkcyan','maroon']\n",
    "ylabs = ['Percentage','Percentage']\n",
    "titles = ['Percentage of men showed after receiving SMS','Percentage of women showed after receiving SMS']\n",
    "for i in range(2):\n",
    "    plot_func(l1[i],colors[i],ylabs[i],titles[i])\n",
    "    plt.show();"
   ]
  },
  {
   "cell_type": "markdown",
   "metadata": {},
   "source": [
    "## Relation between SMS , Age categoreies,Gender and showing to appoitment"
   ]
  },
  {
   "cell_type": "code",
   "execution_count": null,
   "metadata": {},
   "outputs": [],
   "source": [
    "### Males who received SMS and showed at the appoitment\n",
    "x_m_r = df_m.query('no_show == \"Yes\" & sms_received >=1 ')['age_cat'].value_counts()\n",
    "### Females who received SMS and showed at the appoitment\n",
    "x_f_r = df_f.query('no_show == \"Yes\" & sms_received >=1 ')['age_cat'].value_counts()\n",
    "\n",
    "### Plotting the two graphs side by side\n",
    "\n",
    "colors = ['darkcyan','maroon']\n",
    "to_plot = [x_m_r,x_f_r]\n",
    "titles = ['Men showed & received SMS','Women showed & received SMS']\n",
    "ytitles = ['Number','Number']\n",
    "bar_plot(1,2,to_plot,colors,titles,ytitles)\n"
   ]
  },
  {
   "cell_type": "code",
   "execution_count": null,
   "metadata": {},
   "outputs": [],
   "source": [
    "### number of males and females who recived SMSs\n",
    "\n",
    "x_m = df_m.query(' sms_received >=1 ')['age_cat'].value_counts()\n",
    "x_f = df_f.query(' sms_received >=1 ')['age_cat'].value_counts()\n",
    "\n",
    "ff = x_f_r/x_f\n",
    "mm = x_m_r/x_m\n",
    "\n",
    "### plotting the percentage of males and femlaes who showed up to appoitment from the total males and females who received SMSs\n",
    "### Again youth(15,24) are likely to attend \n",
    "\n",
    "colors = ['g','grey']\n",
    "to_plot = [mm,ff]\n",
    "titles = ['Men showed & received SMS','Women showed & received SMS']\n",
    "ytitles = ['Percentage','Percentage']\n",
    "bar_plot(1,2,to_plot,colors,titles,ytitles)\n",
    "###\n"
   ]
  },
  {
   "cell_type": "markdown",
   "metadata": {},
   "source": [
    "## Calculating the diffrence between the scheduled and appoitment days "
   ]
  },
  {
   "cell_type": "code",
   "execution_count": null,
   "metadata": {},
   "outputs": [],
   "source": [
    "df['day_diff'] = df['appointment_day'].dt.date - df['scheduled_day'].dt.date\n",
    "### removing days string from the data \n",
    "df['day_diff'] = df['day_diff'].dt.components.days"
   ]
  },
  {
   "cell_type": "markdown",
   "metadata": {},
   "source": [
    "# Question 2\n",
    "## How does day diffrence between scheduling and appoitment  affect showing to an appoitment ?"
   ]
  },
  {
   "cell_type": "code",
   "execution_count": null,
   "metadata": {},
   "outputs": [],
   "source": [
    "### query by showing up recieving sms \n",
    "cc = dict(df.query('no_show == \"Yes\" & sms_received >=1 & day_diff >=0')['day_diff'].value_counts())\n",
    "keys_y = cc.keys()\n",
    "values_y = cc.values()\n",
    "ll = dict(df.query('no_show == \"No\" & sms_received >=1 & day_diff >=0')['day_diff'].value_counts())\n",
    "keys_n = ll.keys()\n",
    "values_n = ll.values()\n",
    "### plotting the day diff\n",
    "\n",
    "fig, (ax1,ax2) = plt.subplots(2, figsize=(10, 6))\n",
    "\n",
    "ax1.scatter(x = list(keys_y) , y = list(values_y))\n",
    "ax1.set_xlabel(\"Day diffrence\")\n",
    "ax1.set_ylabel(\"people recived SMS and showed up\")\n",
    "\n",
    "ax2.scatter(x =list(keys_n), y = list(values_n))\n",
    "ax2.set_xlabel(\"Day diffrence\")\n",
    "ax2.set_ylabel(\"people recived SMS and didnt show up \");\n",
    "plt.suptitle('day diffrence between scheduling and appoitment  affect showing to an appoitmen4t',fontsize=18)\n",
    "fig.tight_layout()\n",
    "### Delaying the appoitment day reduce the problity of people showing up to appoitment"
   ]
  },
  {
   "cell_type": "markdown",
   "metadata": {},
   "source": [
    "# Question 3\n",
    "## Do men or women prefer specific time to manke an appoitmen ?"
   ]
  },
  {
   "cell_type": "code",
   "execution_count": null,
   "metadata": {},
   "outputs": [],
   "source": [
    "###analysis\n",
    "x_1 = df_m.query('no_show == \"Yes\" ')['scheduled_hour'].value_counts()\n",
    "y_1 = df_f.query('no_show == \"Yes\" ')['scheduled_hour'].value_counts()\n",
    "\n",
    "### Plotting\n",
    "\n",
    "colors = ['g','maroon']\n",
    "to_plot = [x_1,y_1]\n",
    "titles = ['men shows in specific hours','women shows in specific hours']\n",
    "ytitles = ['Number','Number']\n",
    "bar_plot(2,1,to_plot,colors,titles,ytitles)\n",
    "plt.xticks([*range(6,22,1)])\n",
    ";"
   ]
  },
  {
   "cell_type": "markdown",
   "metadata": {},
   "source": [
    "###  \tMen and women generally prefer early appointments( 7 am to 10 am)."
   ]
  },
  {
   "cell_type": "markdown",
   "metadata": {},
   "source": [
    "# Question 4\n",
    "## Do people prefer specific week day ?"
   ]
  },
  {
   "cell_type": "code",
   "execution_count": null,
   "metadata": {},
   "outputs": [],
   "source": [
    "x_3 = df_m.query('no_show == \"Yes\"')['day_of_week_a'].value_counts()\n",
    "y_3 = df_f.query('no_show == \"Yes\"')['day_of_week_a'].value_counts()\n",
    "\n",
    "###\n",
    "colors = ['g','grey']\n",
    "to_plot = [x_3,y_3]\n",
    "titles = ['men shows in specific week day','women shows in specific week day']\n",
    "ytitles = ['Number','Number']\n",
    "bar_plot(2,1,to_plot,colors,titles,ytitles)\n",
    "\n",
    "\n",
    "### Most peapole like to go to appoitments on Tuesday\n"
   ]
  },
  {
   "cell_type": "code",
   "execution_count": null,
   "metadata": {},
   "outputs": [],
   "source": [
    "### Saving changes to excel file\n",
    "##df.to_csv(r'D:\\Data Analysis\\Tasks\\Professional Track\\2nd_project\\Data\\noshowappointmentsV3.csv', index = False)"
   ]
  }
 ],
 "metadata": {
  "kernelspec": {
   "display_name": "Python 3",
   "language": "python",
   "name": "python3"
  },
  "language_info": {
   "codemirror_mode": {
    "name": "ipython",
    "version": 3
   },
   "file_extension": ".py",
   "mimetype": "text/x-python",
   "name": "python",
   "nbconvert_exporter": "python",
   "pygments_lexer": "ipython3",
   "version": "3.8.5"
  }
 },
 "nbformat": 4,
 "nbformat_minor": 4
}
